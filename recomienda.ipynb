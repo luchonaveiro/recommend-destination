{
 "cells": [
  {
   "cell_type": "code",
   "execution_count": 133,
   "metadata": {},
   "outputs": [],
   "source": [
    "import pandas as pd\n",
    "import numpy as np\n",
    "import json"
   ]
  },
  {
   "cell_type": "code",
   "execution_count": 42,
   "metadata": {},
   "outputs": [],
   "source": [
    "# Cargo el modelo y el catalogo de paises\n",
    "data_neighbours = pd.read_csv('data_neighbours.csv', index_col=0)\n",
    "data_matrix = pd.read_csv('data_matrix.csv', index_col=0)\n",
    "catalog = pd.read_json('catalog.json', encoding ='utf-8')\n",
    "catalog['code'] = catalog['code'].astype(str)\n",
    "catalog['code'] = 't_' + catalog['code']"
   ]
  },
  {
   "cell_type": "code",
   "execution_count": 150,
   "metadata": {},
   "outputs": [
    {
     "data": {
      "text/plain": [
       "['t_264']"
      ]
     },
     "execution_count": 150,
     "metadata": {},
     "output_type": "execute_result"
    }
   ],
   "source": [
    "# Elijo una ciudad y me guardo el codigo\n",
    "ciudad = ['Bangkok']\n",
    "code = catalog[catalog['name'].isin(ciudad)]['code'].tolist()\n",
    "code"
   ]
  },
  {
   "cell_type": "code",
   "execution_count": 151,
   "metadata": {},
   "outputs": [
    {
     "name": "stdout",
     "output_type": "stream",
     "text": [
      "['t_264']\n",
      "t_296    0.104798\n",
      "t_205    0.065816\n",
      "t_189    0.060334\n",
      "t_355    0.058998\n",
      "t_116    0.054511\n",
      "t_113    0.053275\n",
      "t_312    0.052456\n",
      "t_222    0.052047\n",
      "t_2      0.051884\n",
      "dtype: float64\n"
     ]
    }
   ],
   "source": [
    "# Recomiendo segun la ciudad que eligio\n",
    "most_similar_to_likes = data_neighbours.loc[code]\n",
    "similar_list = most_similar_to_likes.values.tolist()\n",
    "similar_list = list(set([item for sublist in similar_list for item in sublist]))\n",
    "neighbourhood = data_matrix[similar_list].loc[similar_list]\n",
    "\n",
    "# A user vector containing only the neighbourhood items and the known user likes.\n",
    "user_vector = pd.DataFrame(index=data_neighbours.index,columns=range(0,1))\n",
    "for i in range(0,len(user_vector)):\n",
    "    if user_vector.index[i] in code:\n",
    "        user_vector.iloc[i,0] = 1.0\n",
    "    else:\n",
    "        user_vector.iloc[i,0] = 0.0\n",
    "\n",
    "user_vector.iloc[:,0] = user_vector.iloc[:,0].astype(float)\n",
    "user_vector = user_vector.loc[similar_list]\n",
    "\n",
    "# Calculate the score.\n",
    "score = neighbourhood.dot(user_vector.iloc[:,0]).div(neighbourhood.sum(axis=1))\n",
    "\n",
    "# Drop the searched one.\n",
    "score = score.drop(code)\n",
    "\n",
    "print(code)\n",
    "print(score.nlargest(20))"
   ]
  },
  {
   "cell_type": "code",
   "execution_count": 152,
   "metadata": {},
   "outputs": [
    {
     "name": "stdout",
     "output_type": "stream",
     "text": [
      "           name                             country     score\n",
      "0        Phuket               {'name': 'Tailandia'}  0.104798\n",
      "1         Dubái  {'name': 'Emiratos Árabes Unidos'}  0.065816\n",
      "2    Chiang Mai               {'name': 'Tailandia'}  0.060334\n",
      "3      Singapur                {'name': 'Singapur'}  0.058998\n",
      "4         Tokio                   {'name': 'Japón'}  0.054511\n",
      "5          Bali               {'name': 'Indonesia'}  0.053275\n",
      "6        Cancún                  {'name': 'México'}  0.052456\n",
      "7     Barcelona                  {'name': 'España'}  0.052047\n",
      "8  Kuala Lumpur                 {'name': 'Malasia'}  0.051884\n"
     ]
    }
   ],
   "source": [
    "# Decodeo la respuesta\n",
    "recomendacion = pd.DataFrame()\n",
    "recomendacion['code'] = score.nlargest(20).index\n",
    "recomendacion['score'] = np.array(score.nlargest(20))\n",
    "\n",
    "recomendacion = recomendacion.merge(catalog, on='code')\n",
    "recomendacion = recomendacion[['name','country','score']]\n",
    "print(recomendacion)\n",
    "\n",
    "json_recomendacion = recomendacion.to_json(orient='records')"
   ]
  }
 ],
 "metadata": {
  "kernelspec": {
   "display_name": "Python 3",
   "language": "python",
   "name": "python3"
  },
  "language_info": {
   "codemirror_mode": {
    "name": "ipython",
    "version": 3
   },
   "file_extension": ".py",
   "mimetype": "text/x-python",
   "name": "python",
   "nbconvert_exporter": "python",
   "pygments_lexer": "ipython3",
   "version": "3.6.5"
  }
 },
 "nbformat": 4,
 "nbformat_minor": 2
}
